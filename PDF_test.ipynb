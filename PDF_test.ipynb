{
 "cells": [
  {
   "cell_type": "code",
   "execution_count": 1,
   "id": "4e0e1757",
   "metadata": {},
   "outputs": [],
   "source": [
    "import PyPDF2 as pdf"
   ]
  },
  {
   "cell_type": "code",
   "execution_count": 2,
   "id": "26fdd72a",
   "metadata": {},
   "outputs": [],
   "source": [
    "from PyPDF2 import PdfReader, PdfWriter"
   ]
  },
  {
   "cell_type": "code",
   "execution_count": 3,
   "id": "d3d7455a",
   "metadata": {},
   "outputs": [
    {
     "data": {
      "text/plain": [
       "'3.0.1'"
      ]
     },
     "execution_count": 3,
     "metadata": {},
     "output_type": "execute_result"
    }
   ],
   "source": [
    "pdf.__version__"
   ]
  },
  {
   "cell_type": "code",
   "execution_count": 4,
   "id": "e21aeb71",
   "metadata": {},
   "outputs": [],
   "source": [
    "file = open('/home/irijon/Documents/Python/PDF/Relatório_de_IC.pdf', mode = 'rb')\n",
    "reader = PdfReader(file)"
   ]
  },
  {
   "cell_type": "code",
   "execution_count": 5,
   "id": "daea8bc6",
   "metadata": {},
   "outputs": [
    {
     "data": {
      "text/plain": [
       "6"
      ]
     },
     "execution_count": 5,
     "metadata": {},
     "output_type": "execute_result"
    }
   ],
   "source": [
    "len(reader.pages)"
   ]
  },
  {
   "cell_type": "code",
   "execution_count": 6,
   "id": "679e17c2",
   "metadata": {},
   "outputs": [],
   "source": [
    "def get_pdf_metadata(pdf_path):\n",
    "    with open(pdf_path, mode = 'rb') as f:\n",
    "        reader = PdfReader(f)\n",
    "        info = reader.metadata\n",
    "    return info"
   ]
  },
  {
   "cell_type": "code",
   "execution_count": 7,
   "id": "e6c7ca92",
   "metadata": {},
   "outputs": [
    {
     "data": {
      "text/plain": [
       "{'/Title': 'Relatório de iniciação cientifica - Lucas Nojiri',\n",
       " '/Producer': 'Skia/PDF m105 Google Docs Renderer'}"
      ]
     },
     "execution_count": 7,
     "metadata": {},
     "output_type": "execute_result"
    }
   ],
   "source": [
    "get_pdf_metadata('/home/irijon/Documents/Python/PDF/Relatório_de_IC.pdf')"
   ]
  },
  {
   "cell_type": "code",
   "execution_count": 8,
   "id": "0f824e7f",
   "metadata": {},
   "outputs": [],
   "source": [
    "def extract_text(pdf_path):\n",
    "    with open(pdf_path, mode = 'rb') as f:\n",
    "        reader = PdfReader(f)\n",
    "        results = []\n",
    "        for i in range(0, len(reader.pages)):\n",
    "            selected_page = reader.pages[i]\n",
    "            text = selected_page.extract_text()\n",
    "            results.append(text)\n",
    "        return ' '.join(results)"
   ]
  },
  {
   "cell_type": "code",
   "execution_count": 9,
   "id": "958d59fa",
   "metadata": {
    "collapsed": true
   },
   "outputs": [
    {
     "data": {
      "text/plain": [
       "'Aluno :\\nLucas Gonçalves Nojiri\\nOrientador  :\\nMarcos Antonio De Matos Laia\\nTítulo :\\nValidação de técnicas de visão computacional\\naplicadas ao\\nPac - man\\nUnidade administrativa\\n: DCOMP  - Departamento de Ciência\\nda Computação\\n1 Resumo\\nRobótica\\né\\ndependente\\ndo\\nestudo\\nrelacionado\\nà\\nvisão\\ncomputacional\\npara\\nreconhecer\\nobjetos\\nos\\nquais\\nrobôs\\ndevem\\ninteragir .\\nPara\\nrealizar\\nas\\nsimulações\\ndo\\ncomportamento\\ndos\\nrobôs,\\njogos\\neletrônicos\\nsão\\nutilizados\\npor\\napresentarem\\num\\nambiente\\ndinâmico\\ne\\ncom\\num\\ncerto\\ngrau\\nde\\ncontrole,\\ndesta\\nforma\\né\\npossível\\nrealizar\\nteste\\nem\\num\\nambiente\\ncom\\ngrau\\nde\\ncontrole.\\nPara\\nque\\ntenham\\numa\\nresposta\\nrápida,\\né\\npreciso\\nque\\nhaja\\numa\\nidentificação\\nmais\\nveloz\\ndos\\nelementos\\ndo\\nambiente\\ndo\\nqual\\no\\nrobô\\nestá\\ninserido,\\nobjetos\\ncomo\\nos\\nrobôs\\naliados,\\nadversários\\ne\\na\\nbola.\\nFoi\\naplicada\\na\\ntécnica\\nde\\nreconhecimento\\nde\\nobjetos\\npor\\ncores\\n(localizados\\nna\\nparte\\nde\\ncima\\nfigura\\n1)\\nque\\né\\nusada\\nem\\nfutebol\\nde\\nrobôs\\npor\\nter\\nbons\\nresultados\\nem\\nproblemas\\nde\\ntempo\\nreal.\\nOs\\nresultados\\nse\\napresentam\\nsatisfatórios\\ncomo pode ser visto no trabalho.\\n2 Intr odução\\nNesta\\ndisciplina\\nforam\\nutilizados\\na\\ntécnica\\nde\\nfutebol\\nde\\nrobôs\\npois\\nela\\né\\nmais\\nsimples\\ne\\npossui\\nsoluções\\nmais\\nrápidas,\\nporém\\nexistem\\nmuitos\\nproblemas\\ncomplexos\\ne\\nexigem\\num\\nhardware\\nmais\\ndedicado\\nque\\npossuem\\num\\nmaior\\npreço,\\nplacas\\nde\\nvídeo\\nmais\\npotentes,\\numa\\nestrutura\\nmais\\ncomplexa,\\ntornando\\nalgo\\nmuito\\ncaro,\\ne\\nmuito\\npesado,\\nmas\\nexistem\\nalgumas\\npossíveis\\nsoluções\\ncomo\\npor\\nexemplo\\na\\nrede\\ncomputacional\\ne\\no\\nmétodo\\nDeep\\nLearning,\\nsendo\\ndo\\ntipo\\nMachine\\nLearning\\nque\\nensina\\nao\\ncomputador\\ncomo\\nrealizar\\ntarefas\\ncomo\\nos\\nseres\\nhumanos,\\nidentificando\\nas\\nimagens,\\nprevendo\\ncertas\\nações,\\nreconhecendo\\nerros\\ne\\nfalhas,\\nonde\\né\\nnecessário\\ntempo\\npara\\ntreinar ,\\npois\\nneste\\nmétodo\\no\\ncomputador\\naprendo\\nem\\ntempo\\nreal\\ne\\nguarda\\nestas\\ninformações.\\nComo\\numa\\ntentativa\\nde\\nresolver\\nestes\\nproblemas,\\nforam\\nutilizadas\\ntécnicas\\nde\\ndivisão\\ncomputacional\\naplicada\\nem\\ncores\\nque\\nforam\\naproveitadas\\nno\\nfutebol\\nde\\nrobôs,\\ncomo\\nresultado\\nas\\noperações\\nsão\\nmais\\nfáceis\\nde\\nprogramar ,\\ngerando\\numa\\nforma\\nmais\\nfacilitada\\npara\\na\\nimplementação\\nno\\nhardware.\\n Figura 1 - Robôs do pr ojeto UaiSoccer\\nda UFSJ\\nO\\nfutebol\\nde\\nrobôs\\né\\no\\nprincipal\\ntema\\ndesta\\niniciação\\ncientífica,\\nrelacionado\\nem\\ncomo\\nas\\nmáquinas\\nvão\\nrealizar\\na\\nleitura\\nda\\nimagem,\\na\\nforma\\ncomo\\nelas\\nvão\\nenxer gar,\\nnesta\\nimagem\\nestá\\nrepresentado\\no\\nrobô\\ncom\\nas\\ncom\\nalgumas\\nbolinhas\\npara\\nque\\no\\ncomputador\\nfaça\\na\\ndetecção\\ndas\\nsuas\\ncores,\\npara\\ndescobrir\\nsua\\nposição\\ne\\nas\\ncores\\ntemáticas\\npara\\ndistinguir\\nos\\ntimes,\\npois\\nos\\nrobôs\\nadversários\\ntambém\\npossuem\\num\\npadrão\\npodendo\\nconfundir\\npela\\ncoloração\\ne\\ngerando\\nproblemas,\\nusando\\na\\nmesma\\ntécnica\\nde\\nlocalizar\\ncores,\\no\\njogo\\npac-man\\né\\npossível\\nrealizar\\neste\\nreconhecimento,\\npor\\nestar\\nem\\num\\nambiente\\ncontrolado\\ne\\nnão\\npossuir\\nmais\\nque\\n15\\ncores, é possível aplicar estas técnicas.\\nUm\\njogo\\ncom\\ndestaque\\ne\\nque\\nutiliza\\ntécnicas\\ncom\\ncaracterísticas\\ncomplexas\\né\\no\\n“\\nPengo\\nde\\n1987\\n”,\\nque\\npossui\\nresolução\\nde\\nproblemas\\ncomplexos\\ncomo se fosse situações reais [4].\\n2.1 Imagem\\nUma\\nimagem\\né\\nrepresentação\\nvisual\\nde\\nalguma\\nfigura,\\nalgum\\nobjeto,\\nonde\\na\\npartir\\ndisso\\nprocuramos\\nrealizar\\nessa\\nrepresentação\\nutilizando\\nalguns\\nrecursos\\nmais\\navançados,\\ncomo\\ntratamentos\\nde\\nimagem,\\nconseguir\\nrealizar\\nsua\\nleitura\\nRGB\\ne\\nexibir\\nela\\nna\\ntela,\\nverificar\\no\\ntamanho\\nda\\nimagem,\\ncriar\\nos\\ncanais\\nde\\ncores\\nindividuais,\\nrealizar\\na\\npassagem\\nde\\ncores\\npara\\na\\nescala\\ncinza\\ne\\na\\nsua\\ndetecção.\\nNo\\nmomento\\nque\\na\\nimagem\\né\\ncapturada,\\né\\nrealizado\\no\\nprocessamento\\nde\\nimagem\\n[5]\\nencontrado\\nno\\nlivro\\nProcessamento\\nDigital\\nde\\nImagens\\nde\\nRafael\\nC.Gonzalez\\ne\\nRichar d\\nE.Wood\\ns,\\nutilizando\\nvisão\\ncomputacional,\\nprimeiramente\\ndefinindo\\nonde\\na\\nimagem\\nserá\\ncortada\\nna\\ntela\\npara\\nrealizar\\na\\ncaptura,\\ncomo\\npor\\nexemplo\\no\\nalgoritmo de 8 cores.\\n2.2 Materiais e Métodos\\nOs\\nmateriais\\nutilizados\\nforam\\nas\\ntécnicas\\nde\\nvisão\\ncomputacional,\\na\\naplicação\\ndo\\njogo\\npac-man\\ne\\nas\\nplataformas\\nutilizadas\\nGNU\\nOctave\\ne\\nMatlab\\nque\\nutilizam\\nJava\\nRobot\\npara\\ntirar\\na\\nfoto\\nda\\nimagem,e\\nsão\\nplataformas\\ngratuitas.\\n3 Editando a imagem\\nNa\\nimagem,\\nas\\nproporções\\nsão\\nescolhidas\\ncom\\nas\\n4\\nvariáveis\\n“ix,iy ,fx,fy”\\ncom\\nestas\\nmedidas\\né\\npossível\\nutilizar\\no\\ncomando\\npara\\ncapturar\\na\\ntela,\\ncom\\na\\naltura\\ne\\na\\nlargura\\ndesejada,\\ndessa\\nforma\\né\\npossível\\na\\nfunção\\n“plotar”\\nna\\ntela,\\ncom\\na\\nfunção\\nplot,\\nos\\nvalores\\ndos\\nvetores\\nque\\nsão\\ncalculados\\ne\\nadicionar\\ncores.\\nUma\\nimagem\\npor\\nser\\numa\\nmatriz,\\nela\\npossui\\nlinhas,\\ncolunas\\ne\\nsua\\ndimensão,\\nexistem\\nformas\\nde\\nplotar\\nas\\ncores\\ncomo\\npor\\nexemplo\\n“RGB”\\nque\\nsão\\nas\\nmatrizes\\n(vermelha\\nR,\\nazul\\nB\\ne\\n verde\\nG)\\ne\\nexistem\\ntons\\ncinzas\\nou\\nmais\\nescuros.\\nEstes\\nmétodos\\nsão\\nutilizados\\npara\\nencontrar\\nos\\nmapas\\ndas\\ncores,\\ncomo\\nfunções “detecta cor” e “map_cor”.\\n3.1 Capturando a imagem\\nApós\\ndefinido\\nas\\nposições,\\noutra\\nfunção\\né\\nchamada\\nlogo\\nem\\nseguida,\\na\\nfunção\\nrect.\\n“createScreenCapture”,\\ndesta\\nforma\\na\\nposição\\nda\\ntela\\nserá\\ndefinida\\ncom\\nprecisão\\ne\\no\\ncorte\\nserá\\nrealizado\\ncomo\\napresentado\\nna\\nfigura\\n2,\\napós\\nisso\\né\\npossível\\nvisualizar\\na\\nimagem\\ncom\\na\\nfunção\\n“imshow”.O\\nresultado\\npode\\nser\\nvisualizado\\nna\\nimagem\\nque\\nestá\\ncom\\nas\\ndimensões alteradas\\n.\\nFigura 2 - captura para manipulação de\\ncores\\n.\\nDesta\\nforma\\na\\nimagem\\napresentada\\nutiliza\\na\\nestratégia\\n“HSV”,\\nutilizado\\npara\\nfacilitar\\na\\nseparação\\nde\\ncores\\ndos\\nobjetos,\\n“H”\\né\\no\\ntom\\nda\\ncoloração\\nda\\nimagem,\\nsendo\\numa\\nmatriz\\ncom\\nvalores\\nque\\nrepresentam\\nos\\nespectros\\ndas\\ncores,\\nna\\nFigura\\n2\\nfoi\\nutilizado\\na\\noperação\\nmorfológica\\n“Dilatação”\\n,\\nque\\ntambém\\npodem\\nser\\nutilizados\\nem\\ntons\\nde\\ncinza\\ne\\ncom\\nRGB,\\nsendo\\nidentificado\\ncomo\\n“imd\\n=\\nimdilate”,\\ndesta\\nforma\\nsão\\ncriados\\nfiltros,\\nespecificando\\nos\\ncontrastes\\ne\\nem\\nseguida\\na\\nimagem\\né\\ndetectada,\\nesses\\ntratamentos\\nde\\nimagem\\nsão\\nnecessários\\npara\\nadquirir\\numa\\nboa\\nresolução,\\ncaso\\ncontrário\\na\\nimagem\\nserá\\nextremamente\\ndifícil\\nde\\nmanipular\\ne\\nenxer gar\\nas\\ncores\\nou\\nos objetos presentes nelas.\\nA\\nfunção\\nplot\\ntem\\na\\nfuncionalidade\\nde\\nmostrar\\na\\nimagem\\ndo\\njogo\\nno\\noctave,\\ncomo\\npor\\nexemplo\\nna\\nimagem\\napresentada,\\ncom\\nas\\nmedidas\\nescolhidas\\nele\\nfoi\\ncapaz\\nde\\nrealizar\\no\\nrecorte\\nda\\nimagem,\\napós\\nrealizar\\no\\nrecorte\\ncom\\nsucesso\\no\\npróximo\\npasso\\né\\nconseguir\\nencontrar\\nos\\nobjetos\\npresentes\\nna\\nimagem\\ncomo\\no\\npróprio\\npac-man\\ne\\nos\\nfantasmas\\nque\\nandam\\npelo\\nmapa,\\nque\\né\\nconsiderado\\num\\nambiente\\ncaótico,\\npois\\nestão\\nem\\nconstante\\nmovimento,\\nalgumas\\ndas\\nformas\\nde\\nrealizar\\na\\nseparação\\ndos\\nelementos\\nda\\nimagem\\nsão\\nas\\ncores,\\ncomo\\npor\\nexemplo\\no\\nfantasma\\ntem\\numa\\ncoloração\\nmais\\nverde\\ne\\no\\npac-man\\npossui\\ntons\\nmais\\npróximos\\nao\\namarelo\\n(os\\nquadrados\\ndas\\nextremidades\\ntambém\\npossuem\\ncoloração\\nsemelhante\\naos\\nfantasmas),\\na\\npartir\\ndisso\\na\\npróxima\\netapa é capturar os elementos.\\nComo\\napresentado\\nna\\nfigura\\n2,\\napós\\na\\nimagem\\nser\\ncapturada,\\nagora\\no\\nobjetivo\\né\\nconseguir\\ndiferenciar\\nos\\nelementos\\npresentes\\nna\\ntela,\\nprimeiramente\\nfoi\\nlocalizado\\no\\npac-man\\nque\\nfoi\\nmarcado\\ncomo\\num\\n“X”\\nvermelho,\\ne\\ndepois\\nfoi\\nencontrado\\num\\ndos\\nfantasmas,\\nque\\nfoi\\nrepresentado\\ncomo\\num\\nquadrado\\nazul,\\ndesta\\nforma\\nconseguindo\\nrealizar\\nas\\nseparações,\\né\\npossível\\nacompanhar\\nseus\\nmovimentos\\npelo\\ngráfico\\nem\\ntempo\\nreal,\\num\\ndos\\ndesafios\\nde\\nrealizar\\na\\ncaptura\\nem\\num\\nambiente\\ncaótico,\\né\\no\\nconstante\\nmovimento\\ne\\ntomada\\nde\\ndecisões\\npara\\nevitar\\nobstáculos,\\nfugir\\ndos\\ninimigos\\ne\\nchegar\\nno\\nobjetivo,\\npodendo\\nser\\ncomparado\\na\\num\\nentregador\\nnas\\nruas\\nlevando um pacote de um ponto ao outro.\\n Figura 3 - r obô entr egador  da amazon\\n.\\nComo\\npor\\nexemplo\\nna\\nfigura\\n3,\\nonde\\no\\nentregador\\ntem\\ncomo\\nobjetivo\\nchegar\\na\\ncerto\\nponto\\ndo\\nmapa,\\ntendo\\nque\\nevitar\\nqualquer\\nobstáculo\\npara\\nterminar\\no\\npercurso,\\nmuito\\nbem\\nrepresentado\\nno\\njogo\\nque\\nse\\nassemelha\\nmuito\\ncom\\no\\ntrânsito,\\npossuindo\\nvários\\nelementos\\ncomo\\nas\\nruas,\\ncarros\\ne\\npedestres.\\nPor\\nconta\\ndisso\\né\\nnecessário\\nos\\ntratamentos\\nde\\nimagem\\npara\\nconseguir\\nlocalizar\\nos\\nobjetos\\ncom\\nmais\\nfacilidade,\\nno\\ncaso\\ndo\\npac-man\\n,\\nele\\nnão\\npossui\\num\\ncorpo\\ncom\\npartes\\ne\\ncores\\ndiferentes,\\nfacilitando\\nseu\\nreconhecimento\\npois\\nseu\\nsprite\\nnão\\nvaria\\nem\\ntamanho\\nou\\nem\\ncores,\\nentão\\napós\\na\\ntransformação\\nde\\ncinza\\nou\\npreto\\nele\\njá\\nganha\\nmuito\\ndestaque,\\nresultados obtidos na figura 4.\\nFigura 4 - imagem manipulada com\\ntons de cinza\\n.\\nFigura 5 -  imagem manipulada com\\ncontraste entr e preto e branco.\\nFigura 6 -  imagem manipulada com\\nsaturação aumentada.\\nNa\\nfigura\\n7,\\nos\\nobjetos\\ncom\\nprioridade\\na\\nserem\\nencontrados\\nforam\\no\\npac-man\\n,\\nos\\nfantasmas\\ne\\nos\\nitens\\nque\\nfavorecem\\no\\njogador .\\nFigura 7 - imagem com tons de cinza\\nfocando nos objetos do mapa\\n.\\n Figura 8 - imagem manipulada com\\ncontraste entr e preto e branco apenas\\ncom o cenário\\n.\\nFigura 9 - imagem manipulada com\\ncontraste entr e preto e branco com foco\\nem localizar  os personagens.\\n4 Resultados\\nO\\njogo\\npac-man\\nescolhido\\npara\\no\\nprojeto,\\nrepresenta\\nmuito\\nbem\\num\\nambiente\\n“caótico”,\\nutilizado\\ncom\\no\\nmétodo\\nde\\nMachine\\nLearning.\\nA\\nseguir\\nforam\\napresentados\\nalgumas\\nimagens\\ncapturadas\\na\\npartir\\ndos\\nprocessos\\nde\\nestudo,\\nfocado\\nnos\\nobjetos\\ndo\\njogo,\\nque\\nsão encontrados no cenário.\\nFigura 10 - captura onde a função plot\\nrepresenta o\\npac-man\\ncom um X\\nvermelho e os fantasmas com um 0 azul.\\nFigura 1 1 - captura onde a função plot\\nestá focando os itens acessíveis no\\nmesmo cenário da figura 10.\\n Conclusão\\nA\\nRealização\\ndeste\\nprojeto\\nde\\niniciação\\ncientífica\\npermitiu\\nconhecer\\na\\nárea\\nde\\nrobótica\\ne\\no\\nprocessamento\\nde\\nimagens\\n,\\npermitindo\\ntambém\\no\\nuso\\nde\\njogos\\npara\\nrealizar\\na\\nsimulação\\nem\\nambientes\\ncaóticos,\\nfoi\\nutilizado\\num\\nambiente\\nde\\nprogramação\\nfora\\ndo\\npadrão\\nde\\nlinguagem\\nC,\\npois\\nalém\\nde\\nser\\nmais\\nacessível\\ntambém\\né\\num\\nsoftware\\ngratuito,\\no\\nGNU\\nOctave.\\nDevido\\na\\npandemia,\\no\\ntrabalho\\nteve\\num\\nfoco\\napenas\\nna\\nparte\\nde\\nprocessamento\\nde\\nimagens,\\nreforçando\\na\\nimportância\\ndesta\\nárea na era da informação\\n.\\nAgradecimentos\\nAgradecimentos\\nao\\nnosso\\norientador\\nMarcos\\nLaia\\ne\\nao\\ndepartamento\\nde\\ncomputação\\npelo\\nprojeto\\nde\\niniciação\\ncientífica\\n(DCOMP)\\ne\\na\\nuniversidade\\nfederal\\nde\\nSão\\nJoão\\nDel\\nRei,\\nvoltada\\npara\\na\\nárea de futebol de robôs\\n.\\nReferências\\n[1]\\nAn\\nIntroduction\\nto\\nReservoir\\nSimulation\\nUsing\\nMATLAB/GNU\\nOctave:\\nUser\\nGuide\\nfor\\nthe\\nMATLAB\\nReservoir\\nSimulation\\nToolbox\\n(MRST)\\n(English\\nEdition) 1ª Edição, eBook Kindle.\\n[2]\\nIntroduction\\nto\\nGNU\\nOctave\\nJason\\nLachniet (Autor)\\n.\\n[3]\\nMATLAB\\nCURSO\\nCOMPLET O,\\nMORAIS, VAGNER VIEIRA, CLAUDIO\\nEDIT ORA:\\nFCA\\nEDIT ORA\\n(POR TUGAL).\\n[4]\\n1987-Pengi:\\nAn\\nImplementation\\nof\\na\\nTheory of Activity .\\n[5]\\nProcessamento\\ndigital\\nde\\nimagens\\n3\\nedição,\\nRafael\\nC.Gonzalez\\ne\\nRichard\\nE.\\nWoods.'"
      ]
     },
     "execution_count": 9,
     "metadata": {},
     "output_type": "execute_result"
    }
   ],
   "source": [
    "extract_text('/home/irijon/Documents/Python/PDF/Relatório_de_IC.pdf')"
   ]
  },
  {
   "cell_type": "code",
   "execution_count": 11,
   "id": "6379b9f5",
   "metadata": {},
   "outputs": [],
   "source": [
    "import os\n",
    "def split_pdf(pdf_path):\n",
    "    with open(pdf_path, mode = 'rb') as f:\n",
    "        reader = PdfReader(f)\n",
    "        for page_num in range(0, len(reader.pages)):\n",
    "            selected_page = reader.pages[page_num]\n",
    "            #writter\n",
    "            writer = PdfWriter()\n",
    "            writer.add_page(selected_page)\n",
    "            filename = os.path.splitext(pdf_path)[0]\n",
    "            output_filename = f\"{filename}_{page_num + 1}.pdf\"\n",
    "            with open(output_filename, mode = 'wb') as out:\n",
    "                writer.write(out)\n",
    "            \n",
    "            print('created a pdf:{}'.format(output_filename))"
   ]
  },
  {
   "cell_type": "code",
   "execution_count": 13,
   "id": "c3bf2db0",
   "metadata": {},
   "outputs": [
    {
     "name": "stdout",
     "output_type": "stream",
     "text": [
      "created a pdf:/home/irijon/Documents/Python/PDF/Relatório_de_IC_1.pdf\n",
      "created a pdf:/home/irijon/Documents/Python/PDF/Relatório_de_IC_2.pdf\n",
      "created a pdf:/home/irijon/Documents/Python/PDF/Relatório_de_IC_3.pdf\n",
      "created a pdf:/home/irijon/Documents/Python/PDF/Relatório_de_IC_4.pdf\n",
      "created a pdf:/home/irijon/Documents/Python/PDF/Relatório_de_IC_5.pdf\n",
      "created a pdf:/home/irijon/Documents/Python/PDF/Relatório_de_IC_6.pdf\n"
     ]
    }
   ],
   "source": [
    "split_pdf('/home/irijon/Documents/Python/PDF/Relatório_de_IC.pdf')"
   ]
  }
 ],
 "metadata": {
  "kernelspec": {
   "display_name": "Python 3 (ipykernel)",
   "language": "python",
   "name": "python3"
  },
  "language_info": {
   "codemirror_mode": {
    "name": "ipython",
    "version": 3
   },
   "file_extension": ".py",
   "mimetype": "text/x-python",
   "name": "python",
   "nbconvert_exporter": "python",
   "pygments_lexer": "ipython3",
   "version": "3.10.6"
  }
 },
 "nbformat": 4,
 "nbformat_minor": 5
}
